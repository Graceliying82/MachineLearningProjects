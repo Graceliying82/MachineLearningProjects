{
 "cells": [
  {
   "cell_type": "code",
   "execution_count": 2,
   "metadata": {},
   "outputs": [],
   "source": [
    "import numpy as np\n",
    "import pandas as pd\n",
    "\n",
    "import urllib\n",
    "\n",
    "import sklearn\n",
    "from sklearn.naive_bayes import BernoulliNB\n",
    "from sklearn.naive_bayes import GaussianNB\n",
    "from sklearn.naive_bayes import MultinomialNB\n",
    "from sklearn.cross_validation import train_test_split\n",
    "\n",
    "from sklearn import metrics\n",
    "from sklearn.metrics import accuracy_score"
   ]
  },
  {
   "cell_type": "code",
   "execution_count": 15,
   "metadata": {},
   "outputs": [],
   "source": [
    "url = \"https://archive.ics.uci.edu/ml/machine-learning-databases/spambase/spambase.data\"\n",
    "\n",
    "raw_data = urllib.urlopen(url)\n",
    "\n",
    "dataset = np.loadtxt(raw_data, delimiter = ',')"
   ]
  },
  {
   "cell_type": "code",
   "execution_count": 16,
   "metadata": {
    "collapsed": true
   },
   "outputs": [],
   "source": [
    "x = dataset[:, 0:48]\n",
    "y = dataset[:, -1]"
   ]
  },
  {
   "cell_type": "code",
   "execution_count": 17,
   "metadata": {
    "collapsed": true
   },
   "outputs": [],
   "source": [
    "x_train, x_test, y_train, y_test = train_test_split(x, y, test_size = .33, random_state = 17) "
   ]
  },
  {
   "cell_type": "code",
   "execution_count": 27,
   "metadata": {},
   "outputs": [
    {
     "name": "stdout",
     "output_type": "stream",
     "text": [
      "BernoulliNB(alpha=1.0, binarize=True, class_prior=None, fit_prior=True)\n",
      "0.855826201448\n"
     ]
    }
   ],
   "source": [
    "#默认的binarize结果\n",
    "BernNB = BernoulliNB(binarize = True)\n",
    "BernNB.fit(x_train, y_train)\n",
    "print (BernNB)\n",
    "y_expect = y_test\n",
    "y_pred = BernNB.predict(x_test)\n",
    "print accuracy_score(y_expect, y_pred)"
   ]
  },
  {
   "cell_type": "code",
   "execution_count": 28,
   "metadata": {},
   "outputs": [
    {
     "name": "stdout",
     "output_type": "stream",
     "text": [
      "BernoulliNB(alpha=1.0, binarize=0.1, class_prior=None, fit_prior=True)\n",
      "0.895325872284\n"
     ]
    }
   ],
   "source": [
    "#binarize。这个参数主要是用来帮BernoulliNB处理二项分布的，可以是数值或者不输入。\n",
    "#如果不输入，则BernoulliNB认为每个数据特征都已经是二元的。否则的话，小于binarize的会归为一类，大于binarize的会归为另外一类。\n",
    "#修改binarize后的结果\n",
    "BernNB = BernoulliNB(binarize = 0.1)\n",
    "BernNB.fit(x_train, y_train)\n",
    "print (BernNB)\n",
    "y_expect = y_test\n",
    "y_pred = BernNB.predict(x_test)\n",
    "print accuracy_score(y_expect, y_pred)"
   ]
  },
  {
   "cell_type": "code",
   "execution_count": 22,
   "metadata": {},
   "outputs": [
    {
     "name": "stdout",
     "output_type": "stream",
     "text": [
      "MultinomialNB(alpha=1.0, class_prior=None, fit_prior=True)\n",
      "0.873601053325\n"
     ]
    }
   ],
   "source": [
    "#使用multinomialNB的结果\n",
    "MultiNB = MultinomialNB()\n",
    "\n",
    "MultiNB.fit(x_train, y_train)\n",
    "print(MultiNB)\n",
    "\n",
    "y_pred = MultiNB.predict(x_test)\n",
    "print accuracy_score(y_expect, y_pred)"
   ]
  },
  {
   "cell_type": "code",
   "execution_count": 26,
   "metadata": {},
   "outputs": [
    {
     "name": "stdout",
     "output_type": "stream",
     "text": [
      "0.813034891376\n"
     ]
    }
   ],
   "source": [
    "#使用GaussianNB的结果\n",
    "GaussNB = GaussianNB()\n",
    "\n",
    "GaussNB.fit(x_train, y_train)\n",
    "\n",
    "y_pred = GaussNB.predict(x_test)\n",
    "print accuracy_score(y_expect, y_pred)"
   ]
  },
  {
   "cell_type": "code",
   "execution_count": null,
   "metadata": {
    "collapsed": true
   },
   "outputs": [],
   "source": []
  }
 ],
 "metadata": {
  "kernelspec": {
   "display_name": "Python 2",
   "language": "python",
   "name": "python2"
  },
  "language_info": {
   "codemirror_mode": {
    "name": "ipython",
    "version": 2
   },
   "file_extension": ".py",
   "mimetype": "text/x-python",
   "name": "python",
   "nbconvert_exporter": "python",
   "pygments_lexer": "ipython2",
   "version": "2.7.13"
  }
 },
 "nbformat": 4,
 "nbformat_minor": 2
}
