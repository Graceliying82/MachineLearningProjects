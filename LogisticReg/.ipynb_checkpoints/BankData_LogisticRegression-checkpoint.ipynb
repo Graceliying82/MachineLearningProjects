{
 "cells": [
  {
   "cell_type": "code",
   "execution_count": 2,
   "metadata": {},
   "outputs": [],
   "source": [
    "# Database comes from http://archive.ics.uci.edu/ml/datasets/Bank+Marketing\n",
    "import pandas as pd\n",
    "import numpy as np\n",
    "from sklearn import preprocessing\n",
    "import matplotlib.pyplot as plt\n",
    "plt.rc(\"font\", size=14)\n",
    "from sklearn.linear_model import LogisticRegression\n",
    "from sklearn.cross_validation import train_test_split\n",
    "import seaborn as sns\n",
    "sns.set(style = \"white\")\n",
    "sns.set(style = \"whitegrid\", color_codes=True)"
   ]
  },
  {
   "cell_type": "code",
   "execution_count": 4,
   "metadata": {},
   "outputs": [
    {
     "name": "stdout",
     "output_type": "stream",
     "text": [
      "(4521, 1)\n",
      "(4521, 1)\n",
      "['age;\"job\";\"marital\";\"education\";\"default\";\"balance\";\"housing\";\"loan\";\"contact\";\"day\";\"month\";\"duration\";\"campaign\";\"pdays\";\"previous\";\"poutcome\";\"y\"']\n"
     ]
    }
   ],
   "source": [
    "data = pd.read_csv('./bank/bank.csv', header=0)\n",
    "print(data.shape)\n",
    "#if any NA values are present, drop that label\n",
    "data = data.dropna()\n",
    "print(data.shape)\n",
    "print(list(data.columns))"
   ]
  },
  {
   "cell_type": "code",
   "execution_count": 6,
   "metadata": {},
   "outputs": [],
   "source": [
    "# Input variables\n",
    "\n",
    "# age (numeric)\n",
    "# job : type of job (categorical: “admin”, “blue-collar”, “entrepreneur”, “housemaid”, “management”, “retired”, “self-employed”, “services”, “student”, “technician”, “unemployed”, “unknown”)\n",
    "# marital : marital status (categorical: “divorced”, “married”, “single”, “unknown”)\n",
    "# education (categorical: “basic.4y”, “basic.6y”, “basic.9y”, “high.school”, “illiterate”, “professional.course”, “university.degree”, “unknown”)\n",
    "# default: has credit in default? (categorical: “no”, “yes”, “unknown”)\n",
    "# housing: has housing loan? (categorical: “no”, “yes”, “unknown”)\n",
    "# loan: has personal loan? (categorical: “no”, “yes”, “unknown”)\n",
    "# contact: contact communication type (categorical: “cellular”, “telephone”)\n",
    "# month: last contact month of year (categorical: “jan”, “feb”, “mar”, …, “nov”, “dec”)\n",
    "# day_of_week: last contact day of the week (categorical: “mon”, “tue”, “wed”, “thu”, “fri”)\n",
    "# duration: last contact duration, in seconds (numeric). Important note: this attribute highly affects the output target (e.g., if duration=0 then y=’no’). The duration is not known before a call is performed, also, after the end of the call, y is obviously known. Thus, this input should only be included for benchmark purposes and should be discarded if the intention is to have a realistic predictive model\n",
    "# campaign: number of contacts performed during this campaign and for this client (numeric, includes last contact)\n",
    "# pdays: number of days that passed by after the client was last contacted from a previous campaign (numeric; 999 means client was not previously contacted)\n",
    "# previous: number of contacts performed before this campaign and for this client (numeric)\n",
    "# poutcome: outcome of the previous marketing campaign (categorical: “failure”, “nonexistent”, “success”)\n",
    "# emp.var.rate: employment variation rate — (numeric)\n",
    "# cons.price.idx: consumer price index — (numeric)\n",
    "# cons.conf.idx: consumer confidence index — (numeric)\n",
    "# euribor3m: euribor 3 month rate — (numeric)\n",
    "# nr.employed: number of employees — (numeric)\n",
    "# Predict variable (desired target):\n",
    "# y — has the client subscribed a term deposit? (binary: “1”, means “Yes”, “0” means “No”)\n"
   ]
  },
  {
   "cell_type": "code",
   "execution_count": null,
   "metadata": {
    "collapsed": true
   },
   "outputs": [],
   "source": []
  }
 ],
 "metadata": {
  "kernelspec": {
   "display_name": "Python 2",
   "language": "python",
   "name": "python2"
  },
  "language_info": {
   "codemirror_mode": {
    "name": "ipython",
    "version": 2
   },
   "file_extension": ".py",
   "mimetype": "text/x-python",
   "name": "python",
   "nbconvert_exporter": "python",
   "pygments_lexer": "ipython2",
   "version": "2.7.13"
  }
 },
 "nbformat": 4,
 "nbformat_minor": 2
}
