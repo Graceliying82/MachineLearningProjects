{
 "cells": [
  {
   "cell_type": "code",
   "execution_count": 55,
   "metadata": {
    "collapsed": true
   },
   "outputs": [],
   "source": [
    "import pandas as pd\n",
    "import numpy as np"
   ]
  },
  {
   "cell_type": "code",
   "execution_count": 10,
   "metadata": {
    "collapsed": true
   },
   "outputs": [],
   "source": [
    "import glob\n",
    "import os"
   ]
  },
  {
   "cell_type": "code",
   "execution_count": 92,
   "metadata": {},
   "outputs": [],
   "source": [
    "paths = glob.glob(\"./testDigits/*.txt\")\n",
    "#full path for each file "
   ]
  },
  {
   "cell_type": "code",
   "execution_count": 141,
   "metadata": {},
   "outputs": [],
   "source": [
    "digitArrayList = []\n",
    "#use digitArrayList as X. Each element in digitArrayList is one digital file for a number\n",
    "\n",
    "outPut=[]\n",
    "#use outPut as Y. Each element in outPut indicate what number the digitArray is.\n",
    "\n",
    "for path in paths:\n",
    "    data =  pd.read_table(path, header = None)\n",
    "    #digitArray = data.as_matrix()\n",
    "    #digitArray is a dataFrame\n",
    "\n",
    "    #manipulate data from [32,1] to [32,]\n",
    "    digitArray = data.iloc[:,0].as_matrix()\n",
    "    digitArrayList.append(digitArray)\n",
    "     \n",
    "    filename = os.path.basename(path).split('.')[0]\n",
    "    #add the no extension name to filename\n",
    "    outPut.append(filename[0])"
   ]
  },
  {
   "cell_type": "code",
   "execution_count": 147,
   "metadata": {},
   "outputs": [
    {
     "name": "stdout",
     "output_type": "stream",
     "text": [
      "(946, 32)\n"
     ]
    }
   ],
   "source": [
    "digitArrayNP = np.array(digitArrayList)\n",
    "print digitArrayNP.shape\n",
    "#This is X\n",
    "\n",
    "outPutNP = np.array(outPut)\n",
    "#This is Y\n"
   ]
  },
  {
   "cell_type": "code",
   "execution_count": null,
   "metadata": {
    "collapsed": true
   },
   "outputs": [],
   "source": []
  }
 ],
 "metadata": {
  "kernelspec": {
   "display_name": "Python 2",
   "language": "python",
   "name": "python2"
  },
  "language_info": {
   "codemirror_mode": {
    "name": "ipython",
    "version": 2
   },
   "file_extension": ".py",
   "mimetype": "text/x-python",
   "name": "python",
   "nbconvert_exporter": "python",
   "pygments_lexer": "ipython2",
   "version": "2.7.13"
  }
 },
 "nbformat": 4,
 "nbformat_minor": 2
}
