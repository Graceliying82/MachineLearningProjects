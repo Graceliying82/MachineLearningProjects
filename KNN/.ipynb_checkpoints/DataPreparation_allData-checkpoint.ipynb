{
 "cells": [
  {
   "cell_type": "code",
   "execution_count": 55,
   "metadata": {
    "collapsed": true
   },
   "outputs": [],
   "source": [
    "import pandas as pd\n",
    "import numpy as np"
   ]
  },
  {
   "cell_type": "code",
   "execution_count": 10,
   "metadata": {
    "collapsed": true
   },
   "outputs": [],
   "source": [
    "import glob\n",
    "import os"
   ]
  },
  {
   "cell_type": "code",
   "execution_count": 92,
   "metadata": {},
   "outputs": [],
   "source": [
    "paths = glob.glob(\"./testDigits/*.txt\")\n",
    "#full path for each file "
   ]
  },
  {
   "cell_type": "code",
   "execution_count": 139,
   "metadata": {},
   "outputs": [
    {
     "name": "stdout",
     "output_type": "stream",
     "text": [
      "['00000000000000000110101000000000' '00000000001111111111111110000000'\n",
      " '00000000111111111111111110000000' '00000000011111111111111111000000'\n",
      " '00000000111111111111111111000000' '00000000111111000000000000000000'\n",
      " '00000000011110000000000000000000' '00000000111100000000000000000000'\n",
      " '00000000111100000000000000000000' '00000000111100000000000000000000'\n",
      " '00000000111000000000000000000000' '00000000111000000000000000000000'\n",
      " '00000000111000111100000000000000' '00000001111111111111100000000000'\n",
      " '00000001111111111111110000000000' '00000001111111111111111000000000'\n",
      " '00000001111111000011111100000000' '00000011110000000000111100000000'\n",
      " '00000001100000000000111100000000' '00000000000000000000011100000000'\n",
      " '00000000000000000000011100000000' '00000000000000000000011110000000'\n",
      " '00000000000000000000011110000000' '00000000000000000000011100000000'\n",
      " '00000000000000000000011100000000' '00000000001100000000111100000000'\n",
      " '00000000011110000000111100000000' '00000000111110000011111000000000'\n",
      " '00000000111111111111111000000000' '00000000111111111111100000000000'\n",
      " '00000000001111111111100000000000' '00000000000111111111000000000000']\n",
      "5_38\n"
     ]
    }
   ],
   "source": [
    "digitArrayList = []\n",
    "#use digitArrayList as X. Each element in digitArrayList is one digital file for a number\n",
    "\n",
    "outPut=[]\n",
    "#use outPut as Y. Each element in outPut indicate what number the digitArray is.\n",
    "\n",
    "for path in paths:\n",
    "    data =  pd.read_table(path, header = None)\n",
    "    #digitArray = data.as_matrix()\n",
    "    #digitArray is a dataFrame\n",
    "\n",
    "    #manipulate data from [32,1] to [32,]\n",
    "    digitArray = data.iloc[:,0].as_matrix()\n",
    "     \n",
    "    filename = os.path.basename(path).split('.')[0]\n",
    "    #add the no extension name to filename\n",
    "    outPut.append(filename[0])"
   ]
  },
  {
   "cell_type": "code",
   "execution_count": 91,
   "metadata": {},
   "outputs": [],
   "source": [
    "digitArrayNP = np.array(digitArrayList)\n",
    "#This is X\n",
    "\n",
    "outPutNP = np.array(outPut)\n",
    "#This is Y\n"
   ]
  }
 ],
 "metadata": {
  "kernelspec": {
   "display_name": "Python 2",
   "language": "python",
   "name": "python2"
  },
  "language_info": {
   "codemirror_mode": {
    "name": "ipython",
    "version": 2
   },
   "file_extension": ".py",
   "mimetype": "text/x-python",
   "name": "python",
   "nbconvert_exporter": "python",
   "pygments_lexer": "ipython2",
   "version": "2.7.13"
  }
 },
 "nbformat": 4,
 "nbformat_minor": 2
}
